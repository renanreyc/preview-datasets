{
 "cells": [
  {
   "cell_type": "markdown",
   "metadata": {},
   "source": [
    "# Importando Bibliotecas"
   ]
  },
  {
   "cell_type": "code",
   "execution_count": 2,
   "metadata": {},
   "outputs": [
    {
     "name": "stderr",
     "output_type": "stream",
     "text": [
      "c:\\code\\python\\preview-datasets\\venv\\lib\\site-packages\\tqdm\\auto.py:21: TqdmWarning: IProgress not found. Please update jupyter and ipywidgets. See https://ipywidgets.readthedocs.io/en/stable/user_install.html\n",
      "  from .autonotebook import tqdm as notebook_tqdm\n"
     ]
    },
    {
     "data": {
      "text/plain": [
       "True"
      ]
     },
     "execution_count": 2,
     "metadata": {},
     "output_type": "execute_result"
    }
   ],
   "source": [
    "import os\n",
    "import pandas as pd\n",
    "from ydata_profiling import ProfileReport\n",
    "\n",
    "from dotenv import load_dotenv\n",
    "from tqdm import tqdm\n",
    "load_dotenv()"
   ]
  },
  {
   "cell_type": "markdown",
   "metadata": {},
   "source": [
    "# Gerando Report de vários arquivos"
   ]
  },
  {
   "cell_type": "code",
   "execution_count": 3,
   "metadata": {},
   "outputs": [],
   "source": [
    "def listar_arquivos(path, formato):\n",
    "    if not os.path.exists(path):\n",
    "        return \"O caminho da pasta não existe.\"\n",
    "\n",
    "    arquivos_encontrados = []\n",
    "\n",
    "    for root, _, files in os.walk(path):\n",
    "        for arquivo in files:\n",
    "            if formato == \"xlsx\" and (arquivo.endswith(\"xlsx\") or arquivo.endswith(\"xlsb\")):\n",
    "                arquivos_encontrados.append(os.path.join(root, arquivo))\n",
    "            elif arquivo.endswith(formato):\n",
    "                arquivos_encontrados.append(os.path.join(root, arquivo))\n",
    "\n",
    "    if arquivos_encontrados:\n",
    "        return arquivos_encontrados\n",
    "    else:\n",
    "        return \"Nenhum arquivo encontrado.\""
   ]
  },
  {
   "cell_type": "code",
   "execution_count": 4,
   "metadata": {},
   "outputs": [],
   "source": [
    "# necessario criar .env e passar variaveis\n",
    "\n",
    "path = os.getenv(\"PATH_SEARCH\")\n",
    "formato = \"xlsx\"\n",
    "arquivos_previa = listar_arquivos(path, formato)"
   ]
  },
  {
   "cell_type": "code",
   "execution_count": null,
   "metadata": {},
   "outputs": [],
   "source": [
    "save_path = os.getenv(\"SAVE_PATH\")\n",
    "save_path"
   ]
  },
  {
   "cell_type": "code",
   "execution_count": 7,
   "metadata": {},
   "outputs": [],
   "source": [
    "# Adicionar colunas\n",
    "colunas_selecionadas = []\n",
    "\n",
    "# remover colunas\n",
    "colunas_a_remover = []"
   ]
  },
  {
   "cell_type": "code",
   "execution_count": null,
   "metadata": {},
   "outputs": [],
   "source": [
    "for file in tqdm(arquivos_previa):\n",
    "    try:\n",
    "        separator_by_so = os.path.sep\n",
    "        new_name = file.split(separator_by_so)[-1].split('.')[0]\n",
    "        print(\"lendo arquivo: \" + new_name + \".\" + formato)\n",
    "\n",
    "        # transforma arquivo em dataframe\n",
    "        if formato == 'xlsx':\n",
    "            df = pd.read_excel(file)\n",
    "        elif formato == 'csv':\n",
    "            df = pd.read_csv(file)\n",
    "        elif formato == 'parquet':\n",
    "            df = pd.read_parquet(file)   \n",
    "\n",
    "        if len(colunas_selecionadas) != 0:\n",
    "            df = df[colunas_selecionadas]\n",
    "        \n",
    "        if len(colunas_a_remover) != 0:\n",
    "            df = df.drop(colunas_a_remover, axis=1)\n",
    "    except Exception as e:\n",
    "        print(\"Error na leitura ou configuração do df: \" + str(e))\n",
    "\n",
    "    \n",
    "    # faz o profile do df\n",
    "    try:\n",
    "        profile = ProfileReport(df, title=\"Profiling Report\")\n",
    "        profile.to_file(save_path + new_name + \"_report.html\")\n",
    "    except Exception as e:\n",
    "        print(\"Error na geração do report: \" + str(e))\n",
    "\n",
    "\n",
    "    "
   ]
  },
  {
   "cell_type": "markdown",
   "metadata": {},
   "source": [
    "# Arquivo Especifico "
   ]
  },
  {
   "cell_type": "code",
   "execution_count": null,
   "metadata": {},
   "outputs": [],
   "source": [
    "save_path = os.getenv(\"SAVE_PATH\")\n",
    "path = \"\""
   ]
  },
  {
   "cell_type": "code",
   "execution_count": null,
   "metadata": {},
   "outputs": [],
   "source": [
    "df = pd.read_excel(path)\n",
    "\n",
    "df.head(5)"
   ]
  },
  {
   "cell_type": "code",
   "execution_count": 5,
   "metadata": {},
   "outputs": [],
   "source": [
    "profile = ProfileReport(df, title=\"Profiling Report\")"
   ]
  },
  {
   "cell_type": "code",
   "execution_count": null,
   "metadata": {},
   "outputs": [],
   "source": [
    "profile.to_file(save_path + new_name + \"_report.html\")"
   ]
  }
 ],
 "metadata": {
  "kernelspec": {
   "display_name": "venv",
   "language": "python",
   "name": "python3"
  },
  "language_info": {
   "codemirror_mode": {
    "name": "ipython",
    "version": 3
   },
   "file_extension": ".py",
   "mimetype": "text/x-python",
   "name": "python",
   "nbconvert_exporter": "python",
   "pygments_lexer": "ipython3",
   "version": "3.10.4"
  },
  "orig_nbformat": 4
 },
 "nbformat": 4,
 "nbformat_minor": 2
}
