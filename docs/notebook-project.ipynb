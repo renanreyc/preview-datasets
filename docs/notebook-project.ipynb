{
 "cells": [
  {
   "cell_type": "markdown",
   "metadata": {},
   "source": [
    "# Importando Bibliotecas"
   ]
  },
  {
   "cell_type": "code",
   "execution_count": 44,
   "metadata": {},
   "outputs": [
    {
     "data": {
      "text/plain": [
       "True"
      ]
     },
     "execution_count": 44,
     "metadata": {},
     "output_type": "execute_result"
    }
   ],
   "source": [
    "import os\n",
    "import pandas as pd\n",
    "from ydata_profiling import ProfileReport\n",
    "\n",
    "from dotenv import load_dotenv\n",
    "from tqdm import tqdm\n",
    "load_dotenv()"
   ]
  },
  {
   "cell_type": "markdown",
   "metadata": {},
   "source": [
    "# Gerando Report de vários arquivos"
   ]
  },
  {
   "cell_type": "code",
   "execution_count": 45,
   "metadata": {},
   "outputs": [],
   "source": [
    "def listar_arquivos(path, formats):\n",
    "    caminho_da_pasta = path\n",
    "    formato_arquivo = formats\n",
    "\n",
    "    if not os.path.exists(caminho_da_pasta):\n",
    "        return \"O caminho da pasta não existe.\"\n",
    "\n",
    "    arquivos_encontrados = []\n",
    "\n",
    "    for root, _, files in os.walk(caminho_da_pasta):\n",
    "        for arquivo in files:\n",
    "            if arquivo.endswith(formato_arquivo):\n",
    "                arquivos_encontrados.append(os.path.join(root, arquivo))\n",
    "\n",
    "    if arquivos_encontrados:\n",
    "        output = []\n",
    "        for arquivo in arquivos_encontrados:\n",
    "            output.append(arquivo)\n",
    "        return output\n",
    "    else:\n",
    "        return \"Nenhum arquivo encontrado.\""
   ]
  },
  {
   "cell_type": "code",
   "execution_count": 46,
   "metadata": {},
   "outputs": [],
   "source": [
    "path = os.getenv(\"PATH_SEARCH\")\n",
    "formato = \"xlsx\"\n",
    "arquivos_previa = listar_arquivos(path, formato)"
   ]
  },
  {
   "cell_type": "code",
   "execution_count": null,
   "metadata": {},
   "outputs": [],
   "source": [
    "save_path = os.getenv(\"SAVE_PATH\")\n",
    "save_path"
   ]
  },
  {
   "cell_type": "code",
   "execution_count": null,
   "metadata": {},
   "outputs": [],
   "source": [
    "for file in tqdm(arquivos_previa):\n",
    "    new_name = file.split('/')[-1].split('.')[0]\n",
    "    print(\"lendo arquivo: \" + new_name + \".\" + formato)\n",
    "\n",
    "    # transforma arquivo em dataframe\n",
    "    if formato == 'xlsx':\n",
    "        df = pd.read_excel(file)\n",
    "    elif formato == 'csv':\n",
    "        df = pd.read_csv(file)\n",
    "    elif formato == 'parquet':\n",
    "        df = pd.read_parquet(file)   \n",
    "    \n",
    "\n",
    "    # faz o profile do df\n",
    "    profile = ProfileReport(df, title=\"Profiling Report\")\n",
    "\n",
    "    # salva o report em html\n",
    "    profile.to_file(save_path + new_name + \"_report.html\")\n",
    "    "
   ]
  },
  {
   "cell_type": "markdown",
   "metadata": {},
   "source": [
    "# Arquivo Especifico "
   ]
  },
  {
   "cell_type": "code",
   "execution_count": null,
   "metadata": {},
   "outputs": [],
   "source": [
    "save_path = os.getenv(\"SAVE_PATH\")\n",
    "path = \"\""
   ]
  },
  {
   "cell_type": "code",
   "execution_count": null,
   "metadata": {},
   "outputs": [],
   "source": [
    "df = pd.read_excel(path)\n",
    "\n",
    "df.head(5)"
   ]
  },
  {
   "cell_type": "code",
   "execution_count": 5,
   "metadata": {},
   "outputs": [],
   "source": [
    "profile = ProfileReport(df, title=\"Profiling Report\")"
   ]
  },
  {
   "cell_type": "code",
   "execution_count": null,
   "metadata": {},
   "outputs": [],
   "source": [
    "profile.to_file(save_path + new_name + \"_report.html\")"
   ]
  }
 ],
 "metadata": {
  "kernelspec": {
   "display_name": "venv",
   "language": "python",
   "name": "python3"
  },
  "language_info": {
   "codemirror_mode": {
    "name": "ipython",
    "version": 3
   },
   "file_extension": ".py",
   "mimetype": "text/x-python",
   "name": "python",
   "nbconvert_exporter": "python",
   "pygments_lexer": "ipython3",
   "version": "3.10.12"
  },
  "orig_nbformat": 4
 },
 "nbformat": 4,
 "nbformat_minor": 2
}
